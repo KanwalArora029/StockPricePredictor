{
 "cells": [
  {
   "cell_type": "markdown",
   "metadata": {},
   "source": [
    "XGBoost is also known as Extreme Gradient Boosting and is considered to be\n",
    "Gradient Boosting on steroids. The main advantages of XGBoost over gradient\n",
    "boosting is speed due to distributed computing, parralelization, out-of-core \n",
    "computing and cache optimization. In particular, XGBoost creates trees in\n",
    "a parralel process while gradient boosting creates trees in a sequential manner."
   ]
  },
  {
   "cell_type": "code",
   "execution_count": 1,
   "metadata": {},
   "outputs": [
    {
     "name": "stderr",
     "output_type": "stream",
     "text": [
      "C:\\Users\\Leslie\\Anaconda3\\lib\\site-packages\\sklearn\\cross_validation.py:44: DeprecationWarning: This module was deprecated in version 0.18 in favor of the model_selection module into which all the refactored classes and functions are moved. Also note that the interface of the new CV iterators are different from that of this module. This module will be removed in 0.20.\n",
      "  \"This module will be removed in 0.20.\", DeprecationWarning)\n"
     ]
    }
   ],
   "source": [
    "# First import all the required libraries\n",
    "import numpy as np\n",
    "import pandas as pd\n",
    "import matplotlib.pyplot as plt\n",
    "from sklearn.metrics import accuracy_score\n",
    "from sklearn.metrics import f1_score\n",
    "from xgboost import XGBClassifier\n",
    "from xgboost import plot_importance\n",
    "from sklearn.model_selection import GridSearchCV\n",
    "from sklearn.model_selection import TimeSeriesSplit\n",
    "from sklearn.metrics import fbeta_score, make_scorer"
   ]
  },
  {
   "cell_type": "code",
   "execution_count": 2,
   "metadata": {
    "collapsed": true
   },
   "outputs": [],
   "source": [
    "# Import the required datasets\n",
    "SP500 = pd.read_csv('SP500_2.csv', parse_dates=True)\n",
    "Nasdaq = pd.read_csv('Nasdaq_2.csv', parse_dates=True)\n",
    "DJI = pd.read_csv('DJI_2.csv', parse_dates=True)\n",
    "DAX = pd.read_csv('DAX_2.csv', parse_dates=True)\n",
    "Paris = pd.read_csv('Paris_2.csv', parse_dates=True)\n",
    "Tokyo = pd.read_csv('Tokyo_2.csv', parse_dates=True)\n",
    "HongKong = pd.read_csv('HongKong_2.csv', parse_dates=True)\n",
    "Aus = pd.read_csv('Aus_2.csv', parse_dates=True)"
   ]
  },
  {
   "cell_type": "code",
   "execution_count": 3,
   "metadata": {
    "collapsed": true
   },
   "outputs": [],
   "source": [
    "\"\"\"\n",
    "Since we had previously exported our engineered features as a CSV file,\n",
    "we can just import it in instead of going through the feature engineering\n",
    "procedure with our own functions again\n",
    "\"\"\"\n",
    "reduced_megaset = pd.read_csv('reduced_megaset.csv')"
   ]
  },
  {
   "cell_type": "code",
   "execution_count": 4,
   "metadata": {
    "collapsed": true
   },
   "outputs": [],
   "source": [
    "# The target variable is the daily return of each day, binary encoded\n",
    "target_raw = (SP500['Adj Close'].shift(-1)/SP500['Adj Close'])-1\n",
    "target = target_raw[21:]\n",
    "target[target > 0] = 1\n",
    "target[target <= 0] = 0"
   ]
  },
  {
   "cell_type": "code",
   "execution_count": 5,
   "metadata": {
    "collapsed": true
   },
   "outputs": [],
   "source": [
    "# Next, split our dimension_reduced megaset and the target array into training and testing subsets\n",
    "X_train = reduced_megaset[:6001]\n",
    "X_test = reduced_megaset[6001:-1]\n",
    "y_train = target[:6001]\n",
    "y_test = target[6001:-1]"
   ]
  },
  {
   "cell_type": "code",
   "execution_count": 6,
   "metadata": {},
   "outputs": [
    {
     "name": "stdout",
     "output_type": "stream",
     "text": [
      "XGB Classifier: [Accuracy: 0.5435, F1-score: 0.6809]\n"
     ]
    }
   ],
   "source": [
    "\"\"\" \n",
    "XGBClassifier Implementation and Results with parameters at default settings\n",
    "\"\"\"\n",
    "# call the XGBClassifier and set seed=0 to ensure reproducibility of results\n",
    "clf_XGB = XGBClassifier(seed = 0)\n",
    "# fit the clf_XGB on training data\n",
    "clf_XGB.fit(X_train, y_train)\n",
    "# make predictions with test data\n",
    "clf_XGB_predictions = clf_XGB.predict(X_test)\n",
    "# evaluate predictions with accuracy metric\n",
    "clf_XGB_accuracy = accuracy_score(y_test, clf_XGB_predictions)\n",
    "# evaluate predictions with F1-score metric\n",
    "clf_XGB_f1 = f1_score(y_test, clf_XGB_predictions)\n",
    "print(\"XGB Classifier: [Accuracy: {:.4f}, F1-score: {:.4f}]\".format(clf_XGB_accuracy, clf_XGB_f1))"
   ]
  },
  {
   "cell_type": "code",
   "execution_count": 7,
   "metadata": {},
   "outputs": [
    {
     "name": "stdout",
     "output_type": "stream",
     "text": [
      "we now have 5401 training data, 600 cross-validation data and 230 testing data.\n"
     ]
    }
   ],
   "source": [
    "\"\"\"\n",
    "The results above is not the best it could be. The XGBoost model can evaluate\n",
    "and report on the performance on a cross-validation set for the model during\n",
    "training.\n",
    "\n",
    "For this, we need to split our dimension-reduced megaset and the target array \n",
    "into training, cross-validation and testing subsets\n",
    "\"\"\"\n",
    "X_train = reduced_megaset[:5401]\n",
    "X_cv = reduced_megaset[5401:6001]\n",
    "X_test = reduced_megaset[6001:-1]\n",
    "y_train = target[:5401]\n",
    "y_cv = target[5401:6001]\n",
    "y_test = target[6001:-1]\n",
    "\n",
    "print(\"we now have {} training data, {} cross-validation data and {} testing data.\".format(X_train.shape[0], \n",
    "                                                                                           X_cv.shape[0], X_test.shape[0]))"
   ]
  },
  {
   "cell_type": "code",
   "execution_count": 8,
   "metadata": {},
   "outputs": [
    {
     "name": "stdout",
     "output_type": "stream",
     "text": [
      "[0]\tvalidation_0-error:0.505\n",
      "[1]\tvalidation_0-error:0.515\n",
      "[2]\tvalidation_0-error:0.51\n",
      "[3]\tvalidation_0-error:0.491667\n",
      "[4]\tvalidation_0-error:0.48\n",
      "[5]\tvalidation_0-error:0.5\n",
      "[6]\tvalidation_0-error:0.491667\n",
      "[7]\tvalidation_0-error:0.49\n",
      "[8]\tvalidation_0-error:0.483333\n",
      "[9]\tvalidation_0-error:0.501667\n",
      "[10]\tvalidation_0-error:0.506667\n",
      "[11]\tvalidation_0-error:0.483333\n",
      "[12]\tvalidation_0-error:0.485\n",
      "[13]\tvalidation_0-error:0.491667\n",
      "[14]\tvalidation_0-error:0.5\n",
      "[15]\tvalidation_0-error:0.496667\n",
      "[16]\tvalidation_0-error:0.501667\n",
      "[17]\tvalidation_0-error:0.498333\n",
      "[18]\tvalidation_0-error:0.498333\n",
      "[19]\tvalidation_0-error:0.495\n",
      "[20]\tvalidation_0-error:0.496667\n",
      "[21]\tvalidation_0-error:0.5\n",
      "[22]\tvalidation_0-error:0.503333\n",
      "[23]\tvalidation_0-error:0.501667\n",
      "[24]\tvalidation_0-error:0.505\n",
      "[25]\tvalidation_0-error:0.503333\n",
      "[26]\tvalidation_0-error:0.506667\n",
      "[27]\tvalidation_0-error:0.508333\n",
      "[28]\tvalidation_0-error:0.511667\n",
      "[29]\tvalidation_0-error:0.511667\n",
      "[30]\tvalidation_0-error:0.506667\n",
      "[31]\tvalidation_0-error:0.51\n",
      "[32]\tvalidation_0-error:0.503333\n",
      "[33]\tvalidation_0-error:0.508333\n",
      "[34]\tvalidation_0-error:0.508333\n",
      "[35]\tvalidation_0-error:0.506667\n",
      "[36]\tvalidation_0-error:0.506667\n",
      "[37]\tvalidation_0-error:0.511667\n",
      "[38]\tvalidation_0-error:0.513333\n",
      "[39]\tvalidation_0-error:0.506667\n",
      "[40]\tvalidation_0-error:0.508333\n",
      "[41]\tvalidation_0-error:0.503333\n",
      "[42]\tvalidation_0-error:0.5\n",
      "[43]\tvalidation_0-error:0.5\n",
      "[44]\tvalidation_0-error:0.503333\n",
      "[45]\tvalidation_0-error:0.503333\n",
      "[46]\tvalidation_0-error:0.5\n",
      "[47]\tvalidation_0-error:0.501667\n",
      "[48]\tvalidation_0-error:0.508333\n",
      "[49]\tvalidation_0-error:0.513333\n",
      "[50]\tvalidation_0-error:0.51\n",
      "[51]\tvalidation_0-error:0.518333\n",
      "[52]\tvalidation_0-error:0.51\n",
      "[53]\tvalidation_0-error:0.508333\n",
      "[54]\tvalidation_0-error:0.513333\n",
      "[55]\tvalidation_0-error:0.513333\n",
      "[56]\tvalidation_0-error:0.513333\n",
      "[57]\tvalidation_0-error:0.513333\n",
      "[58]\tvalidation_0-error:0.513333\n",
      "[59]\tvalidation_0-error:0.515\n",
      "[60]\tvalidation_0-error:0.515\n",
      "[61]\tvalidation_0-error:0.513333\n",
      "[62]\tvalidation_0-error:0.515\n",
      "[63]\tvalidation_0-error:0.513333\n",
      "[64]\tvalidation_0-error:0.515\n",
      "[65]\tvalidation_0-error:0.515\n",
      "[66]\tvalidation_0-error:0.515\n",
      "[67]\tvalidation_0-error:0.516667\n",
      "[68]\tvalidation_0-error:0.523333\n",
      "[69]\tvalidation_0-error:0.518333\n",
      "[70]\tvalidation_0-error:0.518333\n",
      "[71]\tvalidation_0-error:0.516667\n",
      "[72]\tvalidation_0-error:0.525\n",
      "[73]\tvalidation_0-error:0.526667\n",
      "[74]\tvalidation_0-error:0.523333\n",
      "[75]\tvalidation_0-error:0.523333\n",
      "[76]\tvalidation_0-error:0.518333\n",
      "[77]\tvalidation_0-error:0.516667\n",
      "[78]\tvalidation_0-error:0.516667\n",
      "[79]\tvalidation_0-error:0.518333\n",
      "[80]\tvalidation_0-error:0.518333\n",
      "[81]\tvalidation_0-error:0.518333\n",
      "[82]\tvalidation_0-error:0.518333\n",
      "[83]\tvalidation_0-error:0.518333\n",
      "[84]\tvalidation_0-error:0.518333\n",
      "[85]\tvalidation_0-error:0.515\n",
      "[86]\tvalidation_0-error:0.523333\n",
      "[87]\tvalidation_0-error:0.515\n",
      "[88]\tvalidation_0-error:0.513333\n",
      "[89]\tvalidation_0-error:0.516667\n",
      "[90]\tvalidation_0-error:0.516667\n",
      "[91]\tvalidation_0-error:0.516667\n",
      "[92]\tvalidation_0-error:0.518333\n",
      "[93]\tvalidation_0-error:0.516667\n",
      "[94]\tvalidation_0-error:0.518333\n",
      "[95]\tvalidation_0-error:0.513333\n",
      "[96]\tvalidation_0-error:0.513333\n",
      "[97]\tvalidation_0-error:0.515\n",
      "[98]\tvalidation_0-error:0.516667\n",
      "[99]\tvalidation_0-error:0.516667\n",
      "Improved XGB Classifier: [Accuracy: 0.5739, f1-score: 0.7168]\n"
     ]
    }
   ],
   "source": [
    "\"\"\" \n",
    "XGBClassifier Implementation with Performance Monitoring using error metric on cross-validation set\n",
    "\"\"\"\n",
    "# defining our evaluation set (cross-validation)\n",
    "eval_set = [(X_cv, y_cv)]\n",
    "# notice eval_set is now defined in the training parameters and verbose set to True\n",
    "clf_XGB.fit(X_train, y_train, eval_metric=\"error\", eval_set=eval_set, verbose=True)\n",
    "clf_XGB_predictions = clf_XGB.predict(X_test)\n",
    "clf_XGB_accuracy = accuracy_score(y_test, clf_XGB_predictions)\n",
    "clf_XGB_f1 = f1_score(y_test, clf_XGB_predictions)\n",
    "print(\"Improved XGB Classifier: [Accuracy: {:.4f}, f1-score: {:.4f}]\".format(clf_XGB_accuracy, clf_XGB_f1))"
   ]
  },
  {
   "cell_type": "code",
   "execution_count": 9,
   "metadata": {},
   "outputs": [
    {
     "data": {
      "image/png": "[encoded data removed]",
      "text/plain": [
       "<matplotlib.figure.Figure at 0x22f0b1e0f60>"
      ]
     },
     "metadata": {},
     "output_type": "display_data"
    },
    {
     "name": "stdout",
     "output_type": "stream",
     "text": [
      "[ 0.11981567  0.08755761  0.0921659   0.07066052  0.10906298  0.10291859\n",
      "  0.10138249  0.12135176  0.12135176  0.07373272]\n"
     ]
    }
   ],
   "source": [
    "\"\"\" \n",
    "Feature importance with XGBoost.\n",
    "One of the many benefits of using XGBoost is that it can automatically provide estimates of feature importance from a trained\n",
    "predictive model.\n",
    "\"\"\"\n",
    "# calculates the importance of each feature in the training data\n",
    "plot_importance(clf_XGB)\n",
    "plt.show()\n",
    "print(clf_XGB.feature_importances_)"
   ]
  },
  {
   "cell_type": "code",
   "execution_count": 10,
   "metadata": {},
   "outputs": [
    {
     "name": "stdout",
     "output_type": "stream",
     "text": [
      "XGB Classifier Optimized [Accuracy score: 0.5826, f1-score: 0.7363]\n"
     ]
    }
   ],
   "source": [
    "\"\"\"\n",
    "Optimization of XGBClassifier.\n",
    "Finally, let's try to optimise the performance of our XGBoost model using GridSearch() with a cross-validation set generated\n",
    "from TimeSeriesSplit(). \n",
    "\"\"\"\n",
    "# resetting our training data as we are now going to use TimeSeriesSplit to make cross-validation\n",
    "X_train = reduced_megaset[:6001]\n",
    "X_test = reduced_megaset[6001:-1]\n",
    "y_train = target[:6001]\n",
    "y_test = target[6001:-1]\n",
    "# Choose the time series cross-validator\n",
    "tscv = TimeSeriesSplit(n_splits=3)\n",
    "# Choose XGB Classifier as the algorithm for optimization with GridSearch\n",
    "clf_XGB2 = XGBClassifier(objective = 'binary:logistic', seed = 0)\n",
    "# Create a dictionary for the parameters\n",
    "parameters_XGB = {'n_estimators':[115, 120, 125], \n",
    "                  'learning_rate':[0.005, 0.006, 0.007],\n",
    "                  'max_depth':[1, 2, 3],\n",
    "                  'subsample':[0.85, 0.9, 0.95],\n",
    "                  'gamma':[5, 10, 15],\n",
    "                  'colsample_bytree':[0.3, 0.5, 0.7],\n",
    "                  'reg_lambda':[0, 1]}\n",
    "# Define a scoring function\n",
    "scorer = make_scorer(f1_score)\n",
    "# Create the GridSearch object\"\"\"\n",
    "grid_obj_XGB = GridSearchCV(estimator=clf_XGB2, param_grid=parameters_XGB, scoring=scorer, cv=tscv)\n",
    "# Fit the grid search object to the data to compute the optimal model\n",
    "grid_fit_XGB = grid_obj_XGB.fit(X_train, y_train)\n",
    "# Return the optimal model after fitting the data\n",
    "best_clf_XGB = grid_fit_XGB.best_estimator_\n",
    "# Make predictions with the optimal model\n",
    "best_predictions_XGB = best_clf_XGB.predict(X_test)\n",
    "# Get the accuracy and F1_score of the optimized model\n",
    "clf_XGB2_optimized_accuracy = accuracy_score(y_test, best_predictions_XGB)\n",
    "clf_XGB2_optimized_f1 = f1_score(y_test, best_predictions_XGB)\n",
    "print(\"XGB Classifier Optimized [Accuracy score: {:.4f}, f1-score: {:.4f}]\".format(clf_XGB2_optimized_accuracy, \n",
    "                                                                                   clf_XGB2_optimized_f1))"
   ]
  },
  {
   "cell_type": "markdown",
   "metadata": {},
   "source": [
    "XGB Classifier: [Accuracy: 0.5435, F1-score: 0.6809]\n",
    "Improved XGB Classifier: [Accuracy: 0.5739, f1-score: 0.7168]\n",
    "XGB Classifier Optimized [Accuracy score: 0.5826, f1-score: 0.7363]"
   ]
  },
  {
   "cell_type": "code",
   "execution_count": null,
   "metadata": {
    "collapsed": true
   },
   "outputs": [],
   "source": []
  }
 ],
 "metadata": {
  "kernelspec": {
   "display_name": "Python 3",
   "language": "python",
   "name": "python3"
  },
  "language_info": {
   "codemirror_mode": {
    "name": "ipython",
    "version": 3
   },
   "file_extension": ".py",
   "mimetype": "text/x-python",
   "name": "python",
   "nbconvert_exporter": "python",
   "pygments_lexer": "ipython3",
   "version": "3.6.1"
  }
 },
 "nbformat": 4,
 "nbformat_minor": 2
}

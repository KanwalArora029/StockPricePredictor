{
 "cells": [
  {
   "cell_type": "code",
   "execution_count": 1,
   "metadata": {
    "collapsed": true
   },
   "outputs": [],
   "source": [
    "# First we import all the libraries required for basic data manipulation\n",
    "from scipy.stats import skew\n",
    "from IPython.display import display\n",
    "import matplotlib.pyplot as plt\n",
    "import seaborn as sns\n",
    "import numpy as np\n",
    "import pandas as pd\n",
    "import matplotlib.pyplot as plt"
   ]
  },
  {
   "cell_type": "code",
   "execution_count": 2,
   "metadata": {
    "collapsed": true
   },
   "outputs": [],
   "source": [
    "# Import our csv files as DataFrames\n",
    "SP500 = pd.read_csv('SP500_2.csv', parse_dates=True)\n",
    "Nasdaq = pd.read_csv('Nasdaq_2.csv', parse_dates=True)\n",
    "DJI = pd.read_csv('DJI_2.csv', parse_dates=True)\n",
    "DAX = pd.read_csv('DAX_2.csv', parse_dates=True)\n",
    "Paris = pd.read_csv('Paris_2.csv', parse_dates=True)\n",
    "Tokyo = pd.read_csv('Tokyo_2.csv', parse_dates=True)\n",
    "HongKong = pd.read_csv('HongKong_2.csv', parse_dates=True)\n",
    "Aus = pd.read_csv('Aus_2.csv', parse_dates=True)"
   ]
  },
  {
   "cell_type": "code",
   "execution_count": 3,
   "metadata": {
    "collapsed": true
   },
   "outputs": [],
   "source": [
    "# Create our target variable, which is tomorrow's Adj Close\n",
    "target_raw = (SP500['Adj Close'].shift(-1)/SP500['Adj Close'])-1"
   ]
  },
  {
   "cell_type": "code",
   "execution_count": 4,
   "metadata": {},
   "outputs": [
    {
     "data": {
      "text/plain": [
       "0    0.001686\n",
       "1   -0.001410\n",
       "2   -0.002664\n",
       "3    0.001918\n",
       "4   -0.007087\n",
       "Name: Adj Close, dtype: float64"
      ]
     },
     "execution_count": 4,
     "metadata": {},
     "output_type": "execute_result"
    }
   ],
   "source": [
    "# View first 10 rows of our target array\n",
    "target_raw.head()"
   ]
  },
  {
   "cell_type": "code",
   "execution_count": 5,
   "metadata": {
    "collapsed": true
   },
   "outputs": [],
   "source": [
    "# This will be useful later\n",
    "datasets = [SP500, Nasdaq, DJI, DAX, Paris, Tokyo, HongKong, Aus]\n",
    "names = ['SP500', 'Nasdaq', 'DJI', 'DAX', 'Paris', 'Tokyo', 'HongKong', 'Aus']"
   ]
  },
  {
   "cell_type": "code",
   "execution_count": 6,
   "metadata": {
    "collapsed": true
   },
   "outputs": [],
   "source": [
    "# We define the generate_features() function for our feature engineering\n",
    "\"\"\"\n",
    "The generate_features function performs feature engineering using Adj Close only. The features generated are Daily Returns, \n",
    "Momentum (Daily Returns over 2 days), Daily Return SMA and lagging Daily Returns\n",
    "\n",
    "Since we had some \"null\" values in our DataFrames previously, the DataFrames columns are still considered strings,\n",
    "we need to change that by changing the values to floats\n",
    "\"\"\"\n",
    "\n",
    "\n",
    "def generate_features(datasets, DR, DR_SMA, Lagging):\n",
    "    Max = max(DR, DR_SMA, Lagging+1)\n",
    "    for i in range(len(datasets)):\n",
    "        dataset = datasets[i]\n",
    "        name = names[i]\n",
    "        for j in range(1, DR+1):\n",
    "            dataset[name+'_'+str(j)+'DailyReturn'] = (dataset['Adj Close'].astype(float)/dataset['Adj Close'].astype(float).shift(j))-1\n",
    "        for k in range(2, DR_SMA+1):\n",
    "            dataset[name+'_'+str(k)+'DR_SMA'] = pd.rolling_mean(dataset[name+'_'+str(1)+'DailyReturn'], window=k)\n",
    "        for l in range(1, Lagging+1):\n",
    "            dataset[name+'_'+str(l)+'LaggingDays'] = dataset[name+'_'+str(1)+'DailyReturn'].shift(l)\n",
    "        dataset.drop(dataset.index[:Max], inplace=True)\n",
    "    return Max"
   ]
  },
  {
   "cell_type": "code",
   "execution_count": 7,
   "metadata": {
    "collapsed": true
   },
   "outputs": [],
   "source": [
    "# We define the merge_datasets() function to merge all DataFrames\n",
    "\"\"\"\n",
    "After feature engineering, merge all datasets and drop the 'useless' features. We are only using those features generating\n",
    "using Adj Close, therefore all the other columns are not relevant and need to be removed\n",
    "\"\"\"\n",
    "def merge_datasets(datasets):\n",
    "    drop_features = ['Open', 'High', 'Low', 'Close', 'Adj Close', 'Volume', 'Date']\n",
    "    for i in range(len(datasets)):\n",
    "        datasets[i] = datasets[i].drop(drop_features, axis=1)\n",
    "    megaset = pd.concat(datasets, axis=1)\n",
    "    return megaset"
   ]
  },
  {
   "cell_type": "code",
   "execution_count": 8,
   "metadata": {},
   "outputs": [
    {
     "name": "stderr",
     "output_type": "stream",
     "text": [
      "C:\\Users\\Leslie\\Anaconda3\\lib\\site-packages\\ipykernel_launcher.py:19: FutureWarning: pd.rolling_mean is deprecated for Series and will be removed in a future version, replace with \n",
      "\tSeries.rolling(window=2,center=False).mean()\n",
      "C:\\Users\\Leslie\\Anaconda3\\lib\\site-packages\\ipykernel_launcher.py:19: FutureWarning: pd.rolling_mean is deprecated for Series and will be removed in a future version, replace with \n",
      "\tSeries.rolling(window=3,center=False).mean()\n",
      "C:\\Users\\Leslie\\Anaconda3\\lib\\site-packages\\ipykernel_launcher.py:19: FutureWarning: pd.rolling_mean is deprecated for Series and will be removed in a future version, replace with \n",
      "\tSeries.rolling(window=4,center=False).mean()\n",
      "C:\\Users\\Leslie\\Anaconda3\\lib\\site-packages\\ipykernel_launcher.py:19: FutureWarning: pd.rolling_mean is deprecated for Series and will be removed in a future version, replace with \n",
      "\tSeries.rolling(window=5,center=False).mean()\n",
      "C:\\Users\\Leslie\\Anaconda3\\lib\\site-packages\\ipykernel_launcher.py:19: FutureWarning: pd.rolling_mean is deprecated for Series and will be removed in a future version, replace with \n",
      "\tSeries.rolling(window=6,center=False).mean()\n",
      "C:\\Users\\Leslie\\Anaconda3\\lib\\site-packages\\ipykernel_launcher.py:19: FutureWarning: pd.rolling_mean is deprecated for Series and will be removed in a future version, replace with \n",
      "\tSeries.rolling(window=7,center=False).mean()\n",
      "C:\\Users\\Leslie\\Anaconda3\\lib\\site-packages\\ipykernel_launcher.py:19: FutureWarning: pd.rolling_mean is deprecated for Series and will be removed in a future version, replace with \n",
      "\tSeries.rolling(window=8,center=False).mean()\n",
      "C:\\Users\\Leslie\\Anaconda3\\lib\\site-packages\\ipykernel_launcher.py:19: FutureWarning: pd.rolling_mean is deprecated for Series and will be removed in a future version, replace with \n",
      "\tSeries.rolling(window=9,center=False).mean()\n",
      "C:\\Users\\Leslie\\Anaconda3\\lib\\site-packages\\ipykernel_launcher.py:19: FutureWarning: pd.rolling_mean is deprecated for Series and will be removed in a future version, replace with \n",
      "\tSeries.rolling(window=10,center=False).mean()\n",
      "C:\\Users\\Leslie\\Anaconda3\\lib\\site-packages\\ipykernel_launcher.py:19: FutureWarning: pd.rolling_mean is deprecated for Series and will be removed in a future version, replace with \n",
      "\tSeries.rolling(window=11,center=False).mean()\n",
      "C:\\Users\\Leslie\\Anaconda3\\lib\\site-packages\\ipykernel_launcher.py:19: FutureWarning: pd.rolling_mean is deprecated for Series and will be removed in a future version, replace with \n",
      "\tSeries.rolling(window=12,center=False).mean()\n",
      "C:\\Users\\Leslie\\Anaconda3\\lib\\site-packages\\ipykernel_launcher.py:19: FutureWarning: pd.rolling_mean is deprecated for Series and will be removed in a future version, replace with \n",
      "\tSeries.rolling(window=13,center=False).mean()\n",
      "C:\\Users\\Leslie\\Anaconda3\\lib\\site-packages\\ipykernel_launcher.py:19: FutureWarning: pd.rolling_mean is deprecated for Series and will be removed in a future version, replace with \n",
      "\tSeries.rolling(window=14,center=False).mean()\n",
      "C:\\Users\\Leslie\\Anaconda3\\lib\\site-packages\\ipykernel_launcher.py:19: FutureWarning: pd.rolling_mean is deprecated for Series and will be removed in a future version, replace with \n",
      "\tSeries.rolling(window=15,center=False).mean()\n",
      "C:\\Users\\Leslie\\Anaconda3\\lib\\site-packages\\ipykernel_launcher.py:19: FutureWarning: pd.rolling_mean is deprecated for Series and will be removed in a future version, replace with \n",
      "\tSeries.rolling(window=16,center=False).mean()\n",
      "C:\\Users\\Leslie\\Anaconda3\\lib\\site-packages\\ipykernel_launcher.py:19: FutureWarning: pd.rolling_mean is deprecated for Series and will be removed in a future version, replace with \n",
      "\tSeries.rolling(window=17,center=False).mean()\n",
      "C:\\Users\\Leslie\\Anaconda3\\lib\\site-packages\\ipykernel_launcher.py:19: FutureWarning: pd.rolling_mean is deprecated for Series and will be removed in a future version, replace with \n",
      "\tSeries.rolling(window=18,center=False).mean()\n",
      "C:\\Users\\Leslie\\Anaconda3\\lib\\site-packages\\ipykernel_launcher.py:19: FutureWarning: pd.rolling_mean is deprecated for Series and will be removed in a future version, replace with \n",
      "\tSeries.rolling(window=19,center=False).mean()\n",
      "C:\\Users\\Leslie\\Anaconda3\\lib\\site-packages\\ipykernel_launcher.py:19: FutureWarning: pd.rolling_mean is deprecated for Series and will be removed in a future version, replace with \n",
      "\tSeries.rolling(window=20,center=False).mean()\n"
     ]
    }
   ],
   "source": [
    "# Using the above two functions to do feature engineering (note that some warning messages will appear due to version control)\n",
    "generate_features(datasets, 20, 20, 20)\n",
    "megaset = merge_datasets(datasets)"
   ]
  },
  {
   "cell_type": "code",
   "execution_count": 9,
   "metadata": {},
   "outputs": [
    {
     "name": "stdout",
     "output_type": "stream",
     "text": [
      "Our new dataset has 6232 rows and 472 columns\n"
     ]
    }
   ],
   "source": [
    "print(\"Our new dataset has {}\".format(megaset.shape[0]), \"rows and {}\".format(megaset.shape[1]), \"columns\")"
   ]
  },
  {
   "cell_type": "code",
   "execution_count": 10,
   "metadata": {
    "collapsed": true
   },
   "outputs": [],
   "source": [
    "# Create our target variable and binary encode the array, 1 for DR increase, 0 for DR decrease/no change\n",
    "target = target_raw[21:]\n",
    "target[target > 0] = 1\n",
    "target[target <= 0] = 0"
   ]
  },
  {
   "cell_type": "code",
   "execution_count": 11,
   "metadata": {},
   "outputs": [
    {
     "name": "stdout",
     "output_type": "stream",
     "text": [
      "Our target has 6232 values\n"
     ]
    }
   ],
   "source": [
    "print(\"Our target has {} values\".format(target.shape[0]))"
   ]
  },
  {
   "cell_type": "code",
   "execution_count": 12,
   "metadata": {
    "collapsed": true
   },
   "outputs": [],
   "source": [
    "# Principal Component Analysis (PCA) to reduce number of features\n",
    "\"\"\"\n",
    "Since we now have 472 features, we should reduce the number of features to optimise the training process.\n",
    "Therefore we import the required library for PCA.\n",
    "\"\"\"\n",
    "from sklearn.decomposition import PCA"
   ]
  },
  {
   "cell_type": "code",
   "execution_count": 13,
   "metadata": {},
   "outputs": [
    {
     "name": "stdout",
     "output_type": "stream",
     "text": [
      "[ 0.48869068  0.07465375  0.06444006  0.05478051  0.04107006  0.0268381\n",
      "  0.02263792  0.0175183   0.01596123  0.01116243]\n",
      "Our reduced dimensions can explain 0.8178 % of the variance in the original data\n"
     ]
    }
   ],
   "source": [
    "# We apply PCA by fitting the data with only 10 dimensions (components)\n",
    "pca = PCA(n_components = 10)\n",
    "pca.fit(megaset)\n",
    "print(pca.explained_variance_ratio_)\n",
    "print(\"Our reduced dimensions can explain {:.4f}\".format(sum(pca.explained_variance_ratio_)),\n",
    "      \"% of the variance in the original data\")"
   ]
  },
  {
   "cell_type": "code",
   "execution_count": 14,
   "metadata": {
    "collapsed": true
   },
   "outputs": [],
   "source": [
    "# We create a new DataFrame with these 10 new PCA components\n",
    "reduced_megaset = pca.transform(megaset)\n",
    "reduced_megaset = pd.DataFrame(reduced_megaset, columns = ['Dimension 1', 'Dimension 2',\n",
    "                                                           'Dimension 3', 'Dimension 4',\n",
    "                                                           'Dimension 5', 'Dimension 6',\n",
    "                                                           'Dimension 7', 'Dimension 8',\n",
    "                                                           'Dimension 9', 'Dimension 10'])"
   ]
  },
  {
   "cell_type": "code",
   "execution_count": 15,
   "metadata": {},
   "outputs": [
    {
     "data": {
      "text/html": [
       "<div>\n",
       "<style>\n",
       "    .dataframe thead tr:only-child th {\n",
       "        text-align: right;\n",
       "    }\n",
       "\n",
       "    .dataframe thead th {\n",
       "        text-align: left;\n",
       "    }\n",
       "\n",
       "    .dataframe tbody tr th {\n",
       "        vertical-align: top;\n",
       "    }\n",
       "</style>\n",
       "<table border=\"1\" class=\"dataframe\">\n",
       "  <thead>\n",
       "    <tr style=\"text-align: right;\">\n",
       "      <th></th>\n",
       "      <th>Dimension 1</th>\n",
       "      <th>Dimension 2</th>\n",
       "      <th>Dimension 3</th>\n",
       "      <th>Dimension 4</th>\n",
       "      <th>Dimension 5</th>\n",
       "      <th>Dimension 6</th>\n",
       "      <th>Dimension 7</th>\n",
       "      <th>Dimension 8</th>\n",
       "      <th>Dimension 9</th>\n",
       "      <th>Dimension 10</th>\n",
       "    </tr>\n",
       "  </thead>\n",
       "  <tbody>\n",
       "    <tr>\n",
       "      <th>0</th>\n",
       "      <td>-0.070869</td>\n",
       "      <td>-0.175132</td>\n",
       "      <td>0.188538</td>\n",
       "      <td>-0.091503</td>\n",
       "      <td>-0.120237</td>\n",
       "      <td>0.038997</td>\n",
       "      <td>-0.099127</td>\n",
       "      <td>-0.007584</td>\n",
       "      <td>-0.032180</td>\n",
       "      <td>0.012546</td>\n",
       "    </tr>\n",
       "    <tr>\n",
       "      <th>1</th>\n",
       "      <td>-0.107387</td>\n",
       "      <td>-0.152888</td>\n",
       "      <td>0.138574</td>\n",
       "      <td>-0.054370</td>\n",
       "      <td>-0.104608</td>\n",
       "      <td>0.038989</td>\n",
       "      <td>-0.082913</td>\n",
       "      <td>0.002462</td>\n",
       "      <td>-0.013329</td>\n",
       "      <td>-0.013628</td>\n",
       "    </tr>\n",
       "    <tr>\n",
       "      <th>2</th>\n",
       "      <td>-0.047233</td>\n",
       "      <td>-0.192850</td>\n",
       "      <td>0.093440</td>\n",
       "      <td>-0.040650</td>\n",
       "      <td>-0.087376</td>\n",
       "      <td>0.046411</td>\n",
       "      <td>-0.056184</td>\n",
       "      <td>0.026102</td>\n",
       "      <td>-0.014609</td>\n",
       "      <td>-0.014664</td>\n",
       "    </tr>\n",
       "    <tr>\n",
       "      <th>3</th>\n",
       "      <td>-0.058944</td>\n",
       "      <td>-0.079337</td>\n",
       "      <td>-0.048917</td>\n",
       "      <td>0.025640</td>\n",
       "      <td>-0.074347</td>\n",
       "      <td>0.037915</td>\n",
       "      <td>-0.030072</td>\n",
       "      <td>0.052715</td>\n",
       "      <td>-0.010731</td>\n",
       "      <td>-0.006141</td>\n",
       "    </tr>\n",
       "    <tr>\n",
       "      <th>4</th>\n",
       "      <td>-0.033568</td>\n",
       "      <td>-0.035606</td>\n",
       "      <td>-0.072818</td>\n",
       "      <td>0.003258</td>\n",
       "      <td>-0.084036</td>\n",
       "      <td>0.033549</td>\n",
       "      <td>-0.009099</td>\n",
       "      <td>0.055372</td>\n",
       "      <td>-0.002367</td>\n",
       "      <td>0.014600</td>\n",
       "    </tr>\n",
       "  </tbody>\n",
       "</table>\n",
       "</div>"
      ],
      "text/plain": [
       "   Dimension 1  Dimension 2  Dimension 3  Dimension 4  Dimension 5  \\\n",
       "0    -0.070869    -0.175132     0.188538    -0.091503    -0.120237   \n",
       "1    -0.107387    -0.152888     0.138574    -0.054370    -0.104608   \n",
       "2    -0.047233    -0.192850     0.093440    -0.040650    -0.087376   \n",
       "3    -0.058944    -0.079337    -0.048917     0.025640    -0.074347   \n",
       "4    -0.033568    -0.035606    -0.072818     0.003258    -0.084036   \n",
       "\n",
       "   Dimension 6  Dimension 7  Dimension 8  Dimension 9  Dimension 10  \n",
       "0     0.038997    -0.099127    -0.007584    -0.032180      0.012546  \n",
       "1     0.038989    -0.082913     0.002462    -0.013329     -0.013628  \n",
       "2     0.046411    -0.056184     0.026102    -0.014609     -0.014664  \n",
       "3     0.037915    -0.030072     0.052715    -0.010731     -0.006141  \n",
       "4     0.033549    -0.009099     0.055372    -0.002367      0.014600  "
      ]
     },
     "execution_count": 15,
     "metadata": {},
     "output_type": "execute_result"
    }
   ],
   "source": [
    "# Let's have a look at the new feature DataFrame\n",
    "reduced_megaset.head()"
   ]
  },
  {
   "cell_type": "code",
   "execution_count": 16,
   "metadata": {
    "collapsed": true
   },
   "outputs": [],
   "source": [
    "# We can visualise the PCA-transformed components' culmulative explained variance\n",
    "pca = PCA().fit(megaset)\n",
    "plt.plot(np.cumsum(pca.explained_variance_ratio_))\n",
    "plt.xlabel('number of components')\n",
    "plt.ylabel('cumulative explained variance');"
   ]
  },
  {
   "cell_type": "code",
   "execution_count": 17,
   "metadata": {},
   "outputs": [
    {
     "data": {
      "image/png": "[encoded data removed]",
      "text/plain": [
       "<matplotlib.figure.Figure at 0x1de4fd72d30>"
      ]
     },
     "metadata": {},
     "output_type": "display_data"
    }
   ],
   "source": [
    "plt.show()"
   ]
  },
  {
   "cell_type": "code",
   "execution_count": 18,
   "metadata": {
    "collapsed": true
   },
   "outputs": [],
   "source": [
    "# We split our dimension-reduced megaset into training and cross-validation (test) subsets\n",
    "\"\"\"\n",
    "Hmmm...looks like the sweet spot is around 50 PCA components but let's stick with 10 for now.\n",
    "The 6,001st row marks the 17th Oct 2016 which is exactly one year before the commencement of this project, we will use this\n",
    "last final year as our cross-validation set\n",
    "\"\"\"\n",
    "X_train = reduced_megaset[:6001]\n",
    "X_test = reduced_megaset[6001:-1]\n",
    "y_train = target[:6001]\n",
    "y_test = target[6001:-1]"
   ]
  },
  {
   "cell_type": "code",
   "execution_count": 19,
   "metadata": {
    "collapsed": true
   },
   "outputs": [],
   "source": [
    "# Export our newly created reduced_megaset as CSV files to the working directory\n",
    "reduced_megaset.to_csv('reduced_megaset.csv', index=False)"
   ]
  },
  {
   "cell_type": "code",
   "execution_count": null,
   "metadata": {
    "collapsed": true
   },
   "outputs": [],
   "source": []
  }
 ],
 "metadata": {
  "kernelspec": {
   "display_name": "Python 3",
   "language": "python",
   "name": "python3"
  },
  "language_info": {
   "codemirror_mode": {
    "name": "ipython",
    "version": 3
   },
   "file_extension": ".py",
   "mimetype": "text/x-python",
   "name": "python",
   "nbconvert_exporter": "python",
   "pygments_lexer": "ipython3",
   "version": "3.6.1"
  }
 },
 "nbformat": 4,
 "nbformat_minor": 2
}

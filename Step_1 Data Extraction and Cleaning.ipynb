{
 "cells": [
  {
   "cell_type": "code",
   "execution_count": 1,
   "metadata": {
    "collapsed": true
   },
   "outputs": [],
   "source": [
    "\"\"\"We begin by first importing the necessary libraries\"\"\"\n",
    "import matplotlib.pyplot as plt\n",
    "import seaborn as sns\n",
    "import numpy as np\n",
    "import pandas as pd"
   ]
  },
  {
   "cell_type": "code",
   "execution_count": 4,
   "metadata": {},
   "outputs": [],
   "source": [
    "\"\"\"First get our csv files and import as DataFrames\"\"\"\n",
    "SP500=pd.read_csv('../Data/SP500.csv', index_col='Date', parse_dates=True)\n",
    "Nasdaq=pd.read_csv('../Data/NASDAQ.csv', index_col='Date', parse_dates=True)\n",
    "DJI=pd.read_csv('../Data/DJI.csv', index_col='Date', parse_dates=True)\n",
    "DAX=pd.read_csv('../Data/DAX.csv', index_col='Date', parse_dates=True)\n",
    "Paris=pd.read_csv('../Data/CAC40.csv', index_col='Date', parse_dates=True)\n",
    "Tokyo=pd.read_csv('../Data/N225.csv', index_col='Date', parse_dates=True)\n",
    "HongKong=pd.read_csv('../Data/HSI.csv', index_col='Date', parse_dates=True)\n",
    "Aus=pd.read_csv('../Data/ASX.csv', index_col='Date', parse_dates=True)\n",
    "\"\"\"Get rid of the first year because ASX has no data\"\"\"\n",
    "SP500 = SP500[502:]\n",
    "\"\"\"Fill in missing data by forward fill\"\"\"\n",
    "SP500.fillna(method='ffill',inplace=True)\n",
    "Nasdaq.fillna(method='ffill',inplace=True)\n",
    "DJI.fillna(method='ffill',inplace=True)\n",
    "DAX.fillna(method='ffill',inplace=True)\n",
    "Paris.fillna(method='ffill',inplace=True)\n",
    "Tokyo.fillna(method='ffill',inplace=True)\n",
    "HongKong.fillna(method='ffill',inplace=True)\n",
    "Aus.fillna(method='ffill',inplace=True)"
   ]
  },
  {
   "cell_type": "code",
   "execution_count": 5,
   "metadata": {
    "collapsed": true
   },
   "outputs": [],
   "source": [
    "\"\"\"We define a function that joins a child to a mother DataFrame\"\"\"\n",
    "def left_join(mother, child):\n",
    "    \"\"\"This function grabs data from all dfs on days SP500 was traded\"\"\"\n",
    "    df_temp = pd.DataFrame(index = mother.index)\n",
    "    df_temp1 = df_temp.join(child)\n",
    "    df_temp1 = df_temp1.replace('null', np.nan)\n",
    "    df_temp1.fillna(method='ffill', inplace=True)\n",
    "    df_temp1.fillna(method='backfill', inplace=True)\n",
    "    return df_temp1"
   ]
  },
  {
   "cell_type": "code",
   "execution_count": 6,
   "metadata": {
    "collapsed": true
   },
   "outputs": [],
   "source": [
    "\"\"\"Join the DataFrames to SP500 so that we have the trading data of all markets on the days SP500 was traded\"\"\"\n",
    "Nasdaq_new = left_join(SP500, Nasdaq)\n",
    "DJI_new = left_join(SP500, DJI)\n",
    "DAX_new = left_join(SP500, DAX)\n",
    "Paris_new = left_join(SP500, Paris)\n",
    "Tokyo_new = left_join(SP500, Tokyo)\n",
    "HongKong_new = left_join(SP500, HongKong)\n",
    "Aus_new = left_join(SP500, Aus)"
   ]
  },
  {
   "cell_type": "code",
   "execution_count": 7,
   "metadata": {
    "collapsed": true
   },
   "outputs": [],
   "source": [
    "\"\"\"We define a function that restores the date as a feature\"\"\"\n",
    "def reset_index(df):\n",
    "    \"\"\"Dates are no longer important\"\"\"\n",
    "    df['Date'] = df.index\n",
    "    df = df.reset_index(level=['Date'])\n",
    "    return df"
   ]
  },
  {
   "cell_type": "code",
   "execution_count": 8,
   "metadata": {
    "collapsed": true
   },
   "outputs": [],
   "source": [
    "\"\"\"Restore Date as a feature\"\"\"\n",
    "SP500 = reset_index(SP500)\n",
    "Nasdaq = reset_index(Nasdaq_new)\n",
    "DJI = reset_index(DJI_new)\n",
    "DAX = reset_index(DAX_new)\n",
    "Paris = reset_index(Paris_new)\n",
    "Tokyo = reset_index(Tokyo_new)\n",
    "HongKong = reset_index(HongKong_new)\n",
    "Aus = reset_index(Aus_new)"
   ]
  },
  {
   "cell_type": "code",
   "execution_count": null,
   "metadata": {
    "collapsed": true
   },
   "outputs": [],
   "source": [
    "\"\"\"Output our DataFrames as csv files to the designated folder\"\"\"\n",
    "SP500.to_csv('../Data/SP500_new.csv', index=False)\n",
    "Nasdaq.to_csv('../Data/Nasdaq_new.csv', index=False)\n",
    "DJI.to_csv('../Data/DJI_new.csv', index=False)\n",
    "DAX.to_csv('../Data/DAX_new.csv', index=False)\n",
    "Paris.to_csv('../Data/Paris_new.csv', index=False)\n",
    "Tokyo.to_csv('../Data/Tokyo_new.csv', index=False)\n",
    "HongKong.to_csv('../Data/HongKong_new.csv', index=False)\n",
    "Aus.to_csv('../Data/Aus_new.csv', index=False)"
   ]
  }
 ],
 "metadata": {
  "kernelspec": {
   "display_name": "Python 3",
   "language": "python",
   "name": "python3"
  },
  "language_info": {
   "codemirror_mode": {
    "name": "ipython",
    "version": 3
   },
   "file_extension": ".py",
   "mimetype": "text/x-python",
   "name": "python",
   "nbconvert_exporter": "python",
   "pygments_lexer": "ipython3",
   "version": "3.6.1"
  }
 },
 "nbformat": 4,
 "nbformat_minor": 2
}
